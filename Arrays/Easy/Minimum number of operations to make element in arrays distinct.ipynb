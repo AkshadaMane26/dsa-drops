{
 "cells": [
  {
   "cell_type": "markdown",
   "id": "713faa8f",
   "metadata": {},
   "source": [
    "https://leetcode.com/problems/minimum-number-of-operations-to-make-elements-in-array-distinct/\n",
    "\n",
    "<p>You are given an integer array <code>nums</code>. You need to ensure that the elements in the array are distinct. To achieve this, you can perform the following operation any number of times:</p>\n",
    "\n",
    "<ul>\n",
    "  <li>Remove 3 elements from the beginning of the array. If the array has fewer than 3 elements, remove all remaining elements.</li>\n",
    "</ul>\n",
    "\n",
    "<p>Note that an empty array is considered to have distinct elements. Return the minimum number of operations needed to make the elements in the array distinct.</p>\n",
    "\n",
    "<h3>Example 1:</h3>\n",
    "<p><strong>Input:</strong> nums = [1,2,3,4,2,3,3,5,7]</p>\n",
    "<p><strong>Output:</strong> 2</p>\n",
    "<p><strong>Explanation:</strong></p>\n",
    "<ul>\n",
    "  <li>In the first operation, the first 3 elements are removed, resulting in the array [4, 2, 3, 3, 5, 7].</li>\n",
    "  <li>In the second operation, the next 3 elements are removed, resulting in the array [3, 5, 7], which has distinct elements.</li>\n",
    "</ul>\n",
    "<p>Therefore, the answer is 2.</p>\n",
    "\n",
    "<h3>Example 2:</h3>\n",
    "<p><strong>Input:</strong> nums = [4,5,6,4,4]</p>\n",
    "<p><strong>Output:</strong> 2</p>\n",
    "<p><strong>Explanation:</strong></p>\n",
    "<ul>\n",
    "  <li>In the first operation, the first 3 elements are removed, resulting in the array [4, 4].</li>\n",
    "  <li>In the second operation, all remaining elements are removed, resulting in an empty array.</li>\n",
    "</ul>\n",
    "<p>Therefore, the answer is 2.</p>\n",
    "\n",
    "<h3>Example 3:</h3>\n",
    "<p><strong>Input:</strong> nums = [6,7,8,9]</p>\n",
    "<p><strong>Output:</strong> 0</p>\n",
    "<p><strong>Explanation:</strong></p>\n",
    "<ul>\n",
    "  <li>The array already contains distinct elements. Therefore, the answer is 0.</li>\n",
    "</ul>\n",
    "\n",
    "<h3>Constraints:</h3>\n",
    "<ul>\n",
    "  <li>1 &le; nums.length &le; 100</li>\n",
    "  <li>1 &le; nums[i] &le; 100</li>\n",
    "</ul>\n"
   ]
  },
  {
   "cell_type": "code",
   "execution_count": null,
   "id": "e6d03e26",
   "metadata": {},
   "outputs": [
    {
     "name": "stdout",
     "output_type": "stream",
     "text": [
      "2\n",
      "2\n",
      "0\n"
     ]
    }
   ],
   "source": [
    "def findMin(arr):\n",
    "    count = 0\n",
    "    while len(arr) != len(set(arr)):\n",
    "        if len(arr) >= 3:\n",
    "            arr = arr[3:]  # Remove first 3 elements\n",
    "        else:\n",
    "            arr = []  # Remove all remaining elements\n",
    "        count += 1\n",
    "    return count\n",
    "\n",
    "print(findMin([1,2,3,4,2,3,3,5,7]))  # Output: 2\n",
    "print(findMin([4,5,6,4,4]))          # Output: 2\n",
    "print(findMin([6,7,8,9]))            # Output: 0\n",
    "\n",
    "#TC : O(n^2)\n",
    "#SC : O(n)"
   ]
  },
  {
   "cell_type": "code",
   "execution_count": 8,
   "id": "a0305688",
   "metadata": {},
   "outputs": [
    {
     "name": "stdout",
     "output_type": "stream",
     "text": [
      "2\n",
      "2\n",
      "0\n"
     ]
    }
   ],
   "source": [
    "def findMini(nums):\n",
    "        seen = set()\n",
    "\n",
    "        for i in reversed(range(len(nums))):\n",
    "            if nums[i] in seen:\n",
    "                return i // 3 + 1\n",
    "            seen.add(nums[i])\n",
    "\n",
    "        return 0\n",
    "\n",
    "print(findMini([1,2,3,4,2,3,3,5,7]))  # Output: 2\n",
    "print(findMini([4,5,6,4,4]))          # Output: 2\n",
    "print(findMini([6,7,8,9]))   \n",
    "\n",
    "#TC : O(n)\n",
    "#SC : O(n)"
   ]
  },
  {
   "cell_type": "code",
   "execution_count": null,
   "id": "5ae714c8",
   "metadata": {},
   "outputs": [],
   "source": []
  }
 ],
 "metadata": {
  "kernelspec": {
   "display_name": "Python 3",
   "language": "python",
   "name": "python3"
  },
  "language_info": {
   "codemirror_mode": {
    "name": "ipython",
    "version": 3
   },
   "file_extension": ".py",
   "mimetype": "text/x-python",
   "name": "python",
   "nbconvert_exporter": "python",
   "pygments_lexer": "ipython3",
   "version": "3.12.3"
  }
 },
 "nbformat": 4,
 "nbformat_minor": 5
}
