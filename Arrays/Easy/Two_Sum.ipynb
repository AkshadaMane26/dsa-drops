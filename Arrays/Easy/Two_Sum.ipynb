{
 "cells": [
  {
   "cell_type": "markdown",
   "id": "8fd010ce-ecde-480b-b1e8-f1253edbe726",
   "metadata": {},
   "source": [
    "# 2Sum - Complete Tutorial\n",
    "https://www.geeksforgeeks.org/2sum/"
   ]
  },
  {
   "cell_type": "markdown",
   "id": "ce80ce88-0362-45e2-a974-dd4171c25a75",
   "metadata": {},
   "source": [
    "# 1. Two Sum – Pair with given Sum  (return True or False)"
   ]
  },
  {
   "cell_type": "markdown",
   "id": "ff35a4ab-910e-4a2d-84ba-ea890b431bc6",
   "metadata": {},
   "source": [
    "1. [Naive Approach] Generating all Possible Pairs – O(n^2) time and O(1) space\n",
    "2. [Better Approach 1] Sorting and Binary Search – O(n*log(n)) time and O(1) space\n",
    "3. [Better Approach 2] Sorting and Two-Pointer Technique – O(n*log(n)) time and O(1) space\n",
    "4. [Expected Approach] Using Hash Set – O(n) time and O(n) space"
   ]
  },
  {
   "cell_type": "code",
   "execution_count": 27,
   "id": "3b6c1c10-6654-4c2c-825f-1daa3b2f8b76",
   "metadata": {},
   "outputs": [
    {
     "name": "stdout",
     "output_type": "stream",
     "text": [
      "true\n"
     ]
    }
   ],
   "source": [
    "#Way 1 : Generating all Possible Pairs\n",
    "\n",
    "\n",
    "'''\n",
    "\n",
    "The very basic approach is to generate all the possible pairs and \n",
    "check if any of them add up to the target value. To generate all \n",
    "pairs, we simply run two nested loops.\n",
    "\n",
    "'''\n",
    "\n",
    "# Function to check whether any pair exists\n",
    "# whose sum is equal to the given target value\n",
    "def twoSum(arr, target):\n",
    "    n = len(arr)\n",
    "\n",
    "    # Iterate through each element in the array\n",
    "    for i in range(n):\n",
    "      \n",
    "        # For each element arr[i], check every\n",
    "        # other element arr[j] that comes after it\n",
    "        for j in range(i + 1, n):\n",
    "          \n",
    "            # Check if the sum of the current pair\n",
    "            # equals the target\n",
    "            if arr[i] + arr[j] == target:\n",
    "                return True\n",
    "              \n",
    "    # If no pair is found after checking\n",
    "    # all possibilities\n",
    "    return False\n",
    "\n",
    "if __name__ == \"__main__\":\n",
    "    arr = [0, -1, 2, -3, 1]\n",
    "    target = -2\n",
    "\n",
    "    if twoSum(arr, target):\n",
    "        print(\"true\")\n",
    "    else:\n",
    "        print(\"false\")\n",
    "\n",
    "\n",
    "#O(n^2) time and O(1) space"
   ]
  },
  {
   "cell_type": "code",
   "execution_count": null,
   "id": "ac509f98-97a1-4e47-860e-c478719badc0",
   "metadata": {},
   "outputs": [],
   "source": [
    "#Way 2 : Sorting and Binary Search\n",
    "\n",
    "\n",
    "'''\n",
    "We can also solve this problem using Binary Search. As we know that searching element in \n",
    "sorted array would take O(log(n)) time. We first sort the array. Then for each number arr[i] \n",
    "in the array, we first calculate its complement (i.e., target – current number) then uses binary search\n",
    "to quickly check if this complement exists in the subarray after index i.\n",
    "If we find the complement, we returns true; If we never find a complement (after checking all numbers), \n",
    "we return false.\n",
    "'''\n",
    "\n",
    "# Function to perform binary search\n",
    "def binary_search(arr, left, right, target):\n",
    "    while left <= right:\n",
    "        mid = left + (right - left) // 2\n",
    "\n",
    "        if arr[mid] == target:\n",
    "            return True\n",
    "        elif arr[mid] < target:\n",
    "            left = mid + 1\n",
    "        else:\n",
    "            right = mid - 1\n",
    "    return False\n",
    "\n",
    "# Function to check whether any pair exists\n",
    "# whose sum is equal to the given target value\n",
    "def twoSum(arr, target):\n",
    "    arr.sort()\n",
    "\n",
    "    # Iterate through each element in the array\n",
    "    for i in range(len(arr)):\n",
    "        complement = target - arr[i]\n",
    "\n",
    "        # Use binary search to find the complement\n",
    "        if binary_search(arr, i + 1, len(arr) - 1, complement):\n",
    "            return True\n",
    "    # If no pair is found\n",
    "    return False\n",
    "      \n",
    "if __name__ == \"__main__\":\n",
    "    arr = [0, -1, 2, -3, 1]\n",
    "    target = -2\n",
    "\n",
    "    if twoSum(arr, target):\n",
    "        print(\"true\")\n",
    "    else:\n",
    "        print(\"false\")\n",
    "\n",
    "\n",
    "#O(n*log(n)) time and O(1) space\n"
   ]
  },
  {
   "cell_type": "code",
   "execution_count": 28,
   "id": "081ff93e-8cb3-4bcf-b182-5e663e2ad9d8",
   "metadata": {},
   "outputs": [
    {
     "name": "stdout",
     "output_type": "stream",
     "text": [
      "true\n"
     ]
    }
   ],
   "source": [
    "#Way 3 : Sorting and Two-Pointer Technique\n",
    "\n",
    "'''\n",
    "The idea is to use the two-pointer technique but for using the two-pointer technique, the array must be sorted. Once the array is sorted then we can use this approach by keeping one pointer at the beginning (left) and another at the end (right) of the array. Then check the sum of the elements at these two pointers:\n",
    "\n",
    "\n",
    "If the sum equals the target, we’ve found the pair.\n",
    "If the sum is less than the target, move the left pointer to the right to increase the sum.\n",
    "If the sum is greater than the target, move the right pointer to the left to decrease the sum.\n",
    "'''\n",
    "\n",
    "# Function to check whether any pair exists\n",
    "# whose sum is equal to the given target value\n",
    "def two_sum(arr, target):\n",
    "    # Sort the array\n",
    "    arr.sort()\n",
    "\n",
    "    left, right = 0, len(arr) - 1\n",
    "\n",
    "    # Iterate while left pointer is less than right\n",
    "    while left < right:\n",
    "        sum = arr[left] + arr[right]\n",
    "\n",
    "        # Check if the sum matches the target\n",
    "        if sum == target:\n",
    "            return True\n",
    "        elif sum < target: \n",
    "            left += 1  # Move left pointer to the right\n",
    "        else:\n",
    "            right -= 1 # Move right pointer to the left\n",
    "\n",
    "    # If no pair is found\n",
    "    return False\n",
    "\n",
    "arr = [0, -1, 2, -3, 1]\n",
    "target = -2\n",
    "\n",
    "# Call the two_sum function and print the result\n",
    "if two_sum(arr, target):\n",
    "    print(\"true\")\n",
    "else:\n",
    "    print(\"false\")\n",
    "\n",
    "#O(n*log(n)) time and O(1) space"
   ]
  },
  {
   "cell_type": "markdown",
   "id": "c0ff9028-7643-408e-999f-aa0e21ddb577",
   "metadata": {},
   "source": [
    "Way 4 : Using Hash Set – O(n) time and O(n) space\n",
    "\n",
    "\n",
    "Hashing provides a more efficient solution to the 2Sum problem. Rather than checking every possible pair, we store each number in an unordered set during iterating over the array’s elements. For each number, we calculate its complement (i.e., target – current number) and check if this complement exists in the set. If it does, we have successfully found the pair that sums to the target. This approach significantly reduces the time complexity and allowing us to solve the problem in linear time O(n).\n",
    "\n",
    "\n",
    "Step-by-step approach:\n",
    "\n",
    "<ul><li value=\"1\"><span>Create an empty Hash Set or Unordered Set</span></li><li value=\"2\"><span>Iterate through the array and for each number in the array:</span><ul><li value=\"1\"><span>Calculate the complement </span><b><strong>(target – current number)</strong></b><span>.</span></li><li value=\"2\"><span>Check if the complement exists in the set:</span><ul><li value=\"1\"><span>If it is, then pair found.</span></li><li value=\"2\"><span>If it isn’t, add the current number to the set.</span></li></ul></li></ul></li><li value=\"3\"><span>If the loop completes without finding a pair, return that no pair exists.</span></li></ul>"
   ]
  },
  {
   "cell_type": "code",
   "execution_count": 29,
   "id": "1d9b3aa3-0f42-4136-bd15-65c7133df8dc",
   "metadata": {},
   "outputs": [
    {
     "name": "stdout",
     "output_type": "stream",
     "text": [
      "False\n"
     ]
    }
   ],
   "source": [
    "def twoSum(arr,target):\n",
    "    find = set()\n",
    "    \n",
    "    for i in arr:\n",
    "        complement = target - i\n",
    "        if complement in find:\n",
    "            return True\n",
    "        else : find.add(i)\n",
    "    return False\n",
    "arr = [0, -1, 2, -3, 1]\n",
    "target = -85\n",
    "print(twoSum(arr, target))\n",
    "\n",
    "#Time Complexity : O(n)\n",
    "#Space Complexity : O(n)"
   ]
  },
  {
   "cell_type": "markdown",
   "id": "de4d10a1-c58b-4743-8dd1-2b0f9dd1fb0f",
   "metadata": {},
   "source": [
    "# 2. Two Sum – return indices"
   ]
  },
  {
   "cell_type": "code",
   "execution_count": 30,
   "id": "f3f7f499-0f7b-44ee-9d03-fa8d6c17e4ae",
   "metadata": {},
   "outputs": [
    {
     "name": "stdout",
     "output_type": "stream",
     "text": [
      "1 7\n",
      "7 1\n",
      "5 3\n",
      "4 4\n"
     ]
    }
   ],
   "source": [
    "#Way 1 : Naive Approach \n",
    "\n",
    "'''The very basic approach is to generate all the possible pairs and check if any of them\n",
    "add up to the target value. To generate all pairs, we simply run two nested loops.'''\n",
    "\n",
    "def find_two_sum(arr,target):\n",
    "    for i in range(len(arr)):\n",
    "       for j in range(i+1,len(arr)):\n",
    "           if arr[i]+arr[j]==target:\n",
    "               return [i,j]\n",
    "    return -1\n",
    "    \n",
    "\n",
    "arr=[0, -1, 2, -3, 1]\n",
    "target = -2\n",
    "find_two_sum(arr,target)\n",
    "\n",
    "# O(n^2) time\n",
    "# O(1) space"
   ]
  },
  {
   "cell_type": "code",
   "execution_count": 7,
   "id": "0f196f0b-f67c-4354-bb1a-8f34dbbcc883",
   "metadata": {},
   "outputs": [
    {
     "name": "stdout",
     "output_type": "stream",
     "text": [
      "[3, 4]\n"
     ]
    }
   ],
   "source": [
    "#Way 2 : Sorting and Binary search\n",
    "\n",
    "# Function to perform binary search and return index\n",
    "def binary_search(arr, left, right, target):\n",
    "    while left <= right:\n",
    "        mid = left + (right - left) // 2\n",
    "\n",
    "        if arr[mid][0] == target:\n",
    "            return arr[mid][1]  # Return original index\n",
    "        elif arr[mid][0] < target:\n",
    "            left = mid + 1\n",
    "        else:\n",
    "            right = mid - 1\n",
    "    return -1  # Not found\n",
    "\n",
    "# Function to return indices of two numbers whose sum equals the target\n",
    "def twoSum(arr, target):\n",
    "    indexed_arr = [(num, i) for i, num in enumerate(arr)]  # Store (value, index)\n",
    "    indexed_arr.sort()  # Sort based on values\n",
    "\n",
    "    # Iterate through each element in the sorted array\n",
    "    for i in range(len(indexed_arr)):\n",
    "        complement = target - indexed_arr[i][0]\n",
    "\n",
    "        # Use binary search to find the complement\n",
    "        complement_index = binary_search(indexed_arr, i + 1, len(indexed_arr) - 1, complement)\n",
    "        if complement_index != -1:\n",
    "            return sorted([indexed_arr[i][1], complement_index])  # Return sorted indices\n",
    "\n",
    "    return []  # If no pair is found\n",
    "\n",
    "if __name__ == \"__main__\":\n",
    "    arr = [0, -1, 2, -3, 1]\n",
    "    target = -2\n",
    "\n",
    "    result = twoSum(arr, target)\n",
    "    if result:\n",
    "        print(result)  # Output: [1, 4]\n",
    "    else:\n",
    "        print(\"No pair found\")\n",
    "        \n",
    "#Time Complexity : O(n log n)\n",
    "#Space Complexity : O(n)"
   ]
  },
  {
   "cell_type": "code",
   "execution_count": 13,
   "id": "942df46a-f965-4337-9402-9db321df8667",
   "metadata": {},
   "outputs": [
    {
     "name": "stdout",
     "output_type": "stream",
     "text": [
      "[3, 4]\n"
     ]
    }
   ],
   "source": [
    "#Way 3 :  Sorting and Two-Pointer Technique \n",
    "\n",
    "def twoSum(arr, target):\n",
    "    indexed_arr = sorted((num, i) for i, num in enumerate(arr))  # Store (value, index)\n",
    "    left = 0\n",
    "    right = len(indexed_arr) - 1\n",
    "\n",
    "    while left < right:\n",
    "        sum = indexed_arr[left][0] + indexed_arr[right][0]\n",
    "        \n",
    "        if sum < target:\n",
    "            left += 1\n",
    "        elif sum > target:\n",
    "            right -= 1\n",
    "        else:\n",
    "            return sorted([indexed_arr[left][1], indexed_arr[right][1]])  # Return original indices\n",
    "    return []  # No pair found\n",
    "\n",
    "# Test case\n",
    "arr = [0, -1, 2, -3, 1]\n",
    "target = -2\n",
    "print(twoSum(arr, target))  # Output: [1, 4]\n",
    "\n",
    "\n",
    "#Time Complexity: O(n*log(n)), for sorting the array\n",
    "#Auxiliary Space: O(n)"
   ]
  },
  {
   "cell_type": "markdown",
   "id": "f6fde6a5-c0d5-452b-8afb-03023d4b4a50",
   "metadata": {},
   "source": [
    "Note : This approach is the best approach for a sorted array. But if array is not sorted, then we use the below approach."
   ]
  },
  {
   "cell_type": "code",
   "execution_count": 31,
   "id": "d08407a2-6a44-476c-94dc-0b5e7ce1bc8e",
   "metadata": {},
   "outputs": [
    {
     "name": "stdout",
     "output_type": "stream",
     "text": [
      "[3, 4]\n"
     ]
    }
   ],
   "source": [
    "#Way 4 : Using Hash Set – O(n) time and O(n) space\n",
    "def twoSum(arr, target):\n",
    "    find = {}  # Dictionary to store {value: index}\n",
    "    \n",
    "    for i, num in enumerate(arr):\n",
    "        complement = target - num\n",
    "        if complement in find:\n",
    "            return [find[complement], i]  # Return indices\n",
    "        find[num] = i  # Store the index of the current number\n",
    "    return []  # No pair found\n",
    "\n",
    "# Test case\n",
    "arr = [0, -1, 2, -3, 1]\n",
    "target = -2\n",
    "print(twoSum(arr, target))  \n",
    "\n",
    "#Time Complexity : O(n)\n",
    "#Space Complexity : O(n)"
   ]
  },
  {
   "cell_type": "markdown",
   "id": "a00ec56b-3c96-42e3-a307-2bcc38fa5b4d",
   "metadata": {},
   "source": [
    "# 3. Find all pairs with a given sum in two unsorted arrays\n",
    "\n",
    "https://www.geeksforgeeks.org/given-two-unsorted-arrays-find-pairs-whose-sum-x/"
   ]
  },
  {
   "cell_type": "markdown",
   "id": "7ac9e088-e2e5-4db5-8a2b-88647d470ca5",
   "metadata": {},
   "source": [
    "# 4. TwoSum – Count pairs with given sum\n",
    "\n",
    "https://www.geeksforgeeks.org/count-pairs-with-given-sum/\n",
    "\n",
    "Given an array arr[] of n integers and a target value, the task is to find the number of pairs of integers in the array whose sum is equal to target.\n",
    "\n",
    "Input: arr[] = {1, 5, 7, -1, 5}, target = 6\n",
    "<br>\n",
    "Output:  3 <br>\n",
    "Explanation: Pairs with sum 6 are (1, 5), (7, -1) & (1, 5).         \n",
    "\n",
    "\n",
    "Input: arr[] = {1, 1, 1, 1}, target = 2<br>\n",
    "Output:  6<br>\n",
    "Explanation: Pairs with sum 2 are (1, 1), (1, 1), (1, 1), (1, 1), (1, 1) and (1, 1).\n",
    "\n",
    "\n",
    "Input: arr[] = {10, 12, 10, 15, -1}, target = 125 <br>\n",
    "Output:  0\n",
    "\n",
    "\n",
    "\n",
    "* [Naive Approach] By Generating all Possible Pairs – O(n^2) time and O(1) space\n",
    "* [Better Approach] Using Two Pointers Technique – O(nlogn) Time and O(1) Space\n",
    "* [Expected Approach] Using Hash Map or Dictionary – O(n) Time and O(n) Space"
   ]
  },
  {
   "cell_type": "code",
   "execution_count": 38,
   "id": "519ab824-f1a7-4855-a862-ca6175c5a89c",
   "metadata": {},
   "outputs": [
    {
     "name": "stdout",
     "output_type": "stream",
     "text": [
      "2\n"
     ]
    }
   ],
   "source": [
    "#Way 1 : Generating all Possible Pairs\n",
    "\n",
    "def twoSum(arr,target):\n",
    "    count=0\n",
    "    n=len(arr)\n",
    "    for i in range(n):\n",
    "        for j in range(i+1,n):\n",
    "            if arr[i]+arr[j] == target :\n",
    "                count+=1\n",
    "    return count\n",
    "\n",
    "arr = [0, -1, 2, -3, 1,1]\n",
    "target = 2\n",
    "print(twoSum(arr, target))   \n",
    "\n",
    "#O(n^2) time and O(1) space"
   ]
  },
  {
   "cell_type": "code",
   "execution_count": 46,
   "id": "1125b134-c78c-41f0-b1b7-b2476ad8fd2b",
   "metadata": {},
   "outputs": [],
   "source": [
    "#Way 2 : Using Sorting and Two Pointers Technique\n",
    "\n"
   ]
  },
  {
   "cell_type": "code",
   "execution_count": null,
   "id": "3cd66fcc-11a1-4360-ab43-5a4288761b02",
   "metadata": {},
   "outputs": [],
   "source": []
  }
 ],
 "metadata": {
  "kernelspec": {
   "display_name": "Python 3 (ipykernel)",
   "language": "python",
   "name": "python3"
  },
  "language_info": {
   "codemirror_mode": {
    "name": "ipython",
    "version": 3
   },
   "file_extension": ".py",
   "mimetype": "text/x-python",
   "name": "python",
   "nbconvert_exporter": "python",
   "pygments_lexer": "ipython3",
   "version": "3.12.3"
  }
 },
 "nbformat": 4,
 "nbformat_minor": 5
}
