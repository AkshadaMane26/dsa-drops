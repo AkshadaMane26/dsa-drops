{
 "cells": [
  {
   "cell_type": "markdown",
   "id": "f315dbba",
   "metadata": {},
   "source": [
    "<h3>Problem: Merge Two Sorted Arrays</h3>\n",
    "<p>\n",
    "Given two sorted arrays <code>nums1</code> and <code>nums2</code> of size <code>m</code> and <code>n</code> respectively, return the <strong>median</strong> of the two sorted arrays.\n",
    "</p>\n",
    "\n",
    "<p>The overall run time complexity should be <code>O(log (m+n))</code>.</p>\n",
    "\n",
    "<h4>Example 1:</h4>\n",
    "<ul>\n",
    "  <li><strong>Input:</strong> nums1 = [1,3], nums2 = [2]</li>\n",
    "  <li><strong>Output:</strong> 2.00000</li>\n",
    "  <li><strong>Explanation:</strong> merged array = [1,2,3] and median is 2.</li>\n",
    "</ul>\n",
    "\n",
    "<h4>Example 2:</h4>\n",
    "<ul>\n",
    "  <li><strong>Input:</strong> nums1 = [1,2], nums2 = [3,4]</li>\n",
    "  <li><strong>Output:</strong> 2.50000</li>\n",
    "  <li><strong>Explanation:</strong> merged array = [1,2,3,4] and median is (2 + 3) / 2 = 2.5.</li>\n",
    "</ul>\n",
    "\n",
    "<h4>Constraints:</h4>\n",
    "<ul>\n",
    "  <li>nums1.length == m</li>\n",
    "  <li>nums2.length == n</li>\n",
    "  <li>0 <= m <= 1000</li>\n",
    "  <li>0 <= n <= 1000</li>\n",
    "  <li>1 <= m + n <= 2000</li>\n",
    "  <li>-10<sup>6</sup> <= nums1[i], nums2[i] <= 10<sup>6</sup></li>\n",
    "</ul>\n"
   ]
  },
  {
   "cell_type": "code",
   "execution_count": 4,
   "id": "7a601fca",
   "metadata": {},
   "outputs": [
    {
     "name": "stdout",
     "output_type": "stream",
     "text": [
      "2.5\n"
     ]
    }
   ],
   "source": [
    "#WAY 1 : Brute Force Approach\n",
    "\n",
    "def merge_sorted_arrays(arr1, arr2):\n",
    "    i = j = 0\n",
    "    merged = []\n",
    "\n",
    "    while i < len(arr1) and j < len(arr2):\n",
    "        if arr1[i] <= arr2[j]:\n",
    "            merged.append(arr1[i])\n",
    "            i += 1\n",
    "        else:\n",
    "            merged.append(arr2[j])\n",
    "            j += 1\n",
    "\n",
    "    # Add remaining elements\n",
    "    while i < len(arr1):\n",
    "        merged.append(arr1[i])\n",
    "        i += 1\n",
    "\n",
    "    while j < len(arr2):\n",
    "        merged.append(arr2[j])\n",
    "        j += 1\n",
    "\n",
    "    return findMedian(merged)\n",
    "\n",
    "def findMedian(merged):\n",
    "    n = len(merged)\n",
    "    mid = n // 2\n",
    "    if n %2 == 0 :\n",
    "        return (( merged[mid-1] + merged[mid] ) / 2)\n",
    "    else: return merged[mid]\n",
    "   \n",
    "arr1 = [1,2]\n",
    "arr2 =  [3,4]\n",
    "print(merge_sorted_arrays(arr1, arr2))\n",
    "\n",
    "#Time Complexity : O(m+n)\n",
    "#Space Complexity : O(m+n)\n"
   ]
  },
  {
   "cell_type": "code",
   "execution_count": 7,
   "id": "c6b11dfe",
   "metadata": {},
   "outputs": [
    {
     "name": "stdout",
     "output_type": "stream",
     "text": [
      "2\n",
      "2.5\n",
      "0.0\n"
     ]
    }
   ],
   "source": [
    "#Way 2 : Optimal Approach --- Binary Search without building Merged sorted array\n",
    "\n",
    "def findMedianSortedArrays(nums1, nums2):\n",
    "    if len(nums1) > len(nums2):  # Ensure binary search on the smaller array\n",
    "        nums1, nums2 = nums2, nums1\n",
    "\n",
    "    m, n = len(nums1), len(nums2)\n",
    "    total = m + n\n",
    "    half = total // 2\n",
    "\n",
    "    low, high = 0, m\n",
    "    while low <= high:\n",
    "        i = (low + high) // 2\n",
    "        j = half - i\n",
    "\n",
    "        # Edge cases: use -inf/+inf for out-of-bound elements\n",
    "        left1 = nums1[i - 1] if i > 0 else float(\"-inf\")\n",
    "        right1 = nums1[i] if i < m else float(\"inf\")\n",
    "        left2 = nums2[j - 1] if j > 0 else float(\"-inf\")\n",
    "        right2 = nums2[j] if j < n else float(\"inf\")\n",
    "\n",
    "        # Correct partition\n",
    "        if left1 <= right2 and left2 <= right1:\n",
    "            if total % 2 == 0:\n",
    "                return (max(left1, left2) + min(right1, right2)) / 2\n",
    "            else:\n",
    "                return min(right1, right2)\n",
    "        elif left1 > right2:\n",
    "            high = i - 1\n",
    "        else:\n",
    "            low = i + 1\n",
    "\n",
    "\n",
    "print(findMedianSortedArrays([1, 3], [2]))         # Output: 2.0\n",
    "print(findMedianSortedArrays([1, 2], [3, 4]))      # Output: 2.5\n",
    "print(findMedianSortedArrays([0, 0], [0, 0]))      # Output: 0.0\n",
    "\n",
    "\n",
    "#TC : O(log(min(m, n)))\n",
    "#SC : O(1)"
   ]
  },
  {
   "cell_type": "code",
   "execution_count": null,
   "id": "83c0ae43",
   "metadata": {},
   "outputs": [],
   "source": []
  }
 ],
 "metadata": {
  "kernelspec": {
   "display_name": "Python 3",
   "language": "python",
   "name": "python3"
  },
  "language_info": {
   "codemirror_mode": {
    "name": "ipython",
    "version": 3
   },
   "file_extension": ".py",
   "mimetype": "text/x-python",
   "name": "python",
   "nbconvert_exporter": "python",
   "pygments_lexer": "ipython3",
   "version": "3.12.3"
  }
 },
 "nbformat": 4,
 "nbformat_minor": 5
}
